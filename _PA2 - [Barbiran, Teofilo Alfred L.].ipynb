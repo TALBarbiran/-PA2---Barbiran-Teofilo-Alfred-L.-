{
 "cells": [
  {
   "cell_type": "code",
   "execution_count": 1,
   "id": "43075277-4215-4b4c-b361-c5ea09c5cdbb",
   "metadata": {},
   "outputs": [],
   "source": [
    "import numpy as np"
   ]
  },
  {
   "cell_type": "code",
   "execution_count": 2,
   "id": "b9d43435-0879-4b0a-af6b-39adc769a83d",
   "metadata": {},
   "outputs": [],
   "source": [
    "import pandas as pd"
   ]
  },
  {
   "cell_type": "code",
   "execution_count": 11,
   "id": "fcc40020-99e2-47a6-a1a9-265d4068b883",
   "metadata": {},
   "outputs": [],
   "source": [
    "X = np.random.random((5,5))"
   ]
  },
  {
   "cell_type": "code",
   "execution_count": 12,
   "id": "d9424f3d-4c28-44f0-9d9b-223eeea21921",
   "metadata": {},
   "outputs": [
    {
     "data": {
      "text/plain": [
       "array([[0.88926989, 0.59048054, 0.95779149, 0.12650069, 0.13557133],\n",
       "       [0.84085405, 0.01732873, 0.69196949, 0.43545266, 0.34995356],\n",
       "       [0.03246682, 0.93782601, 0.3225311 , 0.39342405, 0.41017881],\n",
       "       [0.77439697, 0.17270187, 0.94463554, 0.91295121, 0.17657209],\n",
       "       [0.18051196, 0.86189852, 0.97955386, 0.11052633, 0.40523099]])"
      ]
     },
     "execution_count": 12,
     "metadata": {},
     "output_type": "execute_result"
    }
   ],
   "source": [
    "X"
   ]
  },
  {
   "cell_type": "code",
   "execution_count": 15,
   "id": "14e586d6-e29f-4847-b113-d918d5e83feb",
   "metadata": {},
   "outputs": [],
   "source": [
    "mean1 = X.mean()"
   ]
  },
  {
   "cell_type": "code",
   "execution_count": 16,
   "id": "d90babf5-8a12-470f-bd2e-13150221e20f",
   "metadata": {},
   "outputs": [
    {
     "data": {
      "text/plain": [
       "np.float64(0.506023143106527)"
      ]
     },
     "execution_count": 16,
     "metadata": {},
     "output_type": "execute_result"
    }
   ],
   "source": [
    "mean1"
   ]
  },
  {
   "cell_type": "code",
   "execution_count": 17,
   "id": "30c50069-4a6f-4bd3-96cb-14fb90ce5ebc",
   "metadata": {},
   "outputs": [],
   "source": [
    "std1 = X.std()"
   ]
  },
  {
   "cell_type": "code",
   "execution_count": 18,
   "id": "8f3956b2-643f-4f8f-9c6e-0ee93f3ab2d6",
   "metadata": {},
   "outputs": [
    {
     "data": {
      "text/plain": [
       "np.float64(0.3342764516977828)"
      ]
     },
     "execution_count": 18,
     "metadata": {},
     "output_type": "execute_result"
    }
   ],
   "source": [
    "std1"
   ]
  },
  {
   "cell_type": "code",
   "execution_count": 19,
   "id": "b5ce54e8-a683-41f3-b240-5ebada3397f2",
   "metadata": {},
   "outputs": [],
   "source": [
    "Z = (X-mean1)/std1"
   ]
  },
  {
   "cell_type": "code",
   "execution_count": 20,
   "id": "1b3ad80f-b9df-40b8-a666-ff308174f065",
   "metadata": {},
   "outputs": [
    {
     "data": {
      "text/plain": [
       "array([[ 1.14649641,  0.25265735,  1.35148122, -1.13535504, -1.10821989],\n",
       "       [ 1.00165868, -1.46194686,  0.55626517, -0.21111414, -0.46688775],\n",
       "       [-1.41666073,  1.29175376, -0.54892304, -0.33684422, -0.28672175],\n",
       "       [ 0.80284994, -0.99714254,  1.31212472,  1.21733992, -0.98556466],\n",
       "       [-0.97377839,  1.06461397,  1.41658413, -1.18314291, -0.30152334]])"
      ]
     },
     "execution_count": 20,
     "metadata": {},
     "output_type": "execute_result"
    }
   ],
   "source": [
    "Z"
   ]
  },
  {
   "cell_type": "code",
   "execution_count": 40,
   "id": "6950f826-b59f-4e35-a08a-b1484b5c17bf",
   "metadata": {},
   "outputs": [],
   "source": [
    "np.save(\"X_normalized.npy\", Z)\n"
   ]
  },
  {
   "cell_type": "code",
   "execution_count": 32,
   "id": "fb5b7b5d-99a6-4c71-9593-ed41d41fa360",
   "metadata": {},
   "outputs": [],
   "source": [
    "Y = np.arange(1,101,1)"
   ]
  },
  {
   "cell_type": "code",
   "execution_count": 33,
   "id": "088b7970-ea38-4139-b0de-ada55a374af5",
   "metadata": {},
   "outputs": [
    {
     "data": {
      "text/plain": [
       "array([  1,   2,   3,   4,   5,   6,   7,   8,   9,  10,  11,  12,  13,\n",
       "        14,  15,  16,  17,  18,  19,  20,  21,  22,  23,  24,  25,  26,\n",
       "        27,  28,  29,  30,  31,  32,  33,  34,  35,  36,  37,  38,  39,\n",
       "        40,  41,  42,  43,  44,  45,  46,  47,  48,  49,  50,  51,  52,\n",
       "        53,  54,  55,  56,  57,  58,  59,  60,  61,  62,  63,  64,  65,\n",
       "        66,  67,  68,  69,  70,  71,  72,  73,  74,  75,  76,  77,  78,\n",
       "        79,  80,  81,  82,  83,  84,  85,  86,  87,  88,  89,  90,  91,\n",
       "        92,  93,  94,  95,  96,  97,  98,  99, 100])"
      ]
     },
     "execution_count": 33,
     "metadata": {},
     "output_type": "execute_result"
    }
   ],
   "source": [
    "Y\n"
   ]
  },
  {
   "cell_type": "code",
   "execution_count": 36,
   "id": "ba9efc2e-061d-4802-a9be-9004426ad9f3",
   "metadata": {},
   "outputs": [],
   "source": [
    "Y1=Y.reshape(10,10)**2"
   ]
  },
  {
   "cell_type": "code",
   "execution_count": 37,
   "id": "049ab08c-0ce5-4611-8e40-bdfc5312ab5c",
   "metadata": {},
   "outputs": [
    {
     "data": {
      "text/plain": [
       "array([[    1,     4,     9,    16,    25,    36,    49,    64,    81,\n",
       "          100],\n",
       "       [  121,   144,   169,   196,   225,   256,   289,   324,   361,\n",
       "          400],\n",
       "       [  441,   484,   529,   576,   625,   676,   729,   784,   841,\n",
       "          900],\n",
       "       [  961,  1024,  1089,  1156,  1225,  1296,  1369,  1444,  1521,\n",
       "         1600],\n",
       "       [ 1681,  1764,  1849,  1936,  2025,  2116,  2209,  2304,  2401,\n",
       "         2500],\n",
       "       [ 2601,  2704,  2809,  2916,  3025,  3136,  3249,  3364,  3481,\n",
       "         3600],\n",
       "       [ 3721,  3844,  3969,  4096,  4225,  4356,  4489,  4624,  4761,\n",
       "         4900],\n",
       "       [ 5041,  5184,  5329,  5476,  5625,  5776,  5929,  6084,  6241,\n",
       "         6400],\n",
       "       [ 6561,  6724,  6889,  7056,  7225,  7396,  7569,  7744,  7921,\n",
       "         8100],\n",
       "       [ 8281,  8464,  8649,  8836,  9025,  9216,  9409,  9604,  9801,\n",
       "        10000]])"
      ]
     },
     "execution_count": 37,
     "metadata": {},
     "output_type": "execute_result"
    }
   ],
   "source": [
    "Y1"
   ]
  },
  {
   "cell_type": "code",
   "execution_count": 38,
   "id": "cc3b8ed6-98e1-4c88-a0e4-1227d01b6446",
   "metadata": {},
   "outputs": [],
   "source": [
    "div = Y1[Y1 % 3 ==0]"
   ]
  },
  {
   "cell_type": "code",
   "execution_count": 39,
   "id": "c3a7cfb0-dd9e-454c-ad43-0fdfd637cfe4",
   "metadata": {},
   "outputs": [
    {
     "data": {
      "text/plain": [
       "array([   9,   36,   81,  144,  225,  324,  441,  576,  729,  900, 1089,\n",
       "       1296, 1521, 1764, 2025, 2304, 2601, 2916, 3249, 3600, 3969, 4356,\n",
       "       4761, 5184, 5625, 6084, 6561, 7056, 7569, 8100, 8649, 9216, 9801])"
      ]
     },
     "execution_count": 39,
     "metadata": {},
     "output_type": "execute_result"
    }
   ],
   "source": [
    "div"
   ]
  },
  {
   "cell_type": "code",
   "execution_count": 41,
   "id": "c6b84346-4163-4791-94cc-30bd20f2628e",
   "metadata": {},
   "outputs": [],
   "source": [
    "np.save(\"div_by_3.npy\", div)"
   ]
  },
  {
   "cell_type": "code",
   "execution_count": null,
   "id": "3f49c40e-d724-4839-9cd3-c33875b77bdc",
   "metadata": {},
   "outputs": [],
   "source": []
  }
 ],
 "metadata": {
  "kernelspec": {
   "display_name": "Python [conda env:base] *",
   "language": "python",
   "name": "conda-base-py"
  },
  "language_info": {
   "codemirror_mode": {
    "name": "ipython",
    "version": 3
   },
   "file_extension": ".py",
   "mimetype": "text/x-python",
   "name": "python",
   "nbconvert_exporter": "python",
   "pygments_lexer": "ipython3",
   "version": "3.13.5"
  }
 },
 "nbformat": 4,
 "nbformat_minor": 5
}
